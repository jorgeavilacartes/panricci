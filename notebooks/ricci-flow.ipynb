{
 "cells": [
  {
   "cell_type": "code",
   "execution_count": 3,
   "metadata": {},
   "outputs": [],
   "source": [
    "import networkit.gephi.csv as gcvs\n",
    "from networkit import *\n",
    "\n",
    "from panricci import RicciFlow, distributions\n",
    "from panricci.utils.gfa_loader import GFALoader\n"
   ]
  },
  {
   "cell_type": "code",
   "execution_count": null,
   "metadata": {},
   "outputs": [],
   "source": [
    "# load graph\n",
    "gfa_loader = GFALoader(undirected=False)\n",
    "nodes, edges, G = gfa_loader(\"../data/test1.gfa\")\n",
    "\n",
    "# compute distribution of nodes\n",
    "distribution = distributions.DistributionNodes(G, alpha=0.5)"
   ]
  },
  {
   "cell_type": "code",
   "execution_count": 4,
   "metadata": {},
   "outputs": [],
   "source": [
    "# Initialize ricci-flow\n",
    "ricci_flow = RicciFlow(G, distribution, dirsave_graphs=\"../output/test3/ricci-flow\")\n",
    "G_ricci = ricci_flow.run()"
   ]
  },
  {
   "cell_type": "code",
   "execution_count": 5,
   "metadata": {},
   "outputs": [],
   "source": [
    "G = generators.ErdosRenyiGenerator(300, 0.2).generate()\n",
    "G.addEdge(0, 1) #We want to make sure this specific edge exists, for usage in an example later.\n",
    "client = gephi.streaming.GephiStreamingClient(url='http://localhost:8080/workspace0')"
   ]
  },
  {
   "cell_type": "code",
   "execution_count": null,
   "metadata": {},
   "outputs": [],
   "source": []
  }
 ],
 "metadata": {
  "kernelspec": {
   "display_name": "panricci2",
   "language": "python",
   "name": "python3"
  },
  "language_info": {
   "codemirror_mode": {
    "name": "ipython",
    "version": 3
   },
   "file_extension": ".py",
   "mimetype": "text/x-python",
   "name": "python",
   "nbconvert_exporter": "python",
   "pygments_lexer": "ipython3",
   "version": "3.10.13"
  }
 },
 "nbformat": 4,
 "nbformat_minor": 2
}
