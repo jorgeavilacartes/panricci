{
 "cells": [
  {
   "cell_type": "code",
   "execution_count": 22,
   "metadata": {},
   "outputs": [],
   "source": [
    "import networkx as nx\n",
    "import networkit as nk\n",
    "\n",
    "from panricci import RicciFlow\n",
    "# from panricci.distributions.variation_graph import DistributionNodes\n",
    "from panricci.distributions.sequence_graph import DistributionNodes\n",
    "from panricci.utils import GFALoader"
   ]
  },
  {
   "cell_type": "markdown",
   "metadata": {},
   "source": [
    "___\n",
    "## Apply Ricci-Flow to a Variation Graph"
   ]
  },
  {
   "cell_type": "code",
   "execution_count": 23,
   "metadata": {},
   "outputs": [
    {
     "name": "stderr",
     "output_type": "stream",
     "text": [
      "RicciFlow: 100%|██████████| 5/5 [00:00<00:00, 756.96it/s]\n"
     ]
    }
   ],
   "source": [
    "# load graph\n",
    "gfa_loader = GFALoader(undirected=False)\n",
    "G = gfa_loader(\"../data/test1.gfa\")\n",
    "\n",
    "# compute distribution of nodes\n",
    "distribution = DistributionNodes(G, alpha=0.5)\n",
    "\n",
    "# Initialize ricci-flow\n",
    "ricci_flow = RicciFlow(G, distribution, dirsave_graphs=\"../output/test3/ricci-flow\")\n",
    "G_ricci = ricci_flow.run(iterations=5, save_last=False, save_intermediate_graphs=True, name=\"test3\")"
   ]
  },
  {
   "cell_type": "markdown",
   "metadata": {},
   "source": [
    "___\n",
    "\n",
    "## Results\n",
    "\n",
    "**Checkpoints can be loaded**"
   ]
  },
  {
   "cell_type": "code",
   "execution_count": null,
   "metadata": {},
   "outputs": [],
   "source": [
    "G_chkpt = nx.read_edgelist(\n",
    "                        \"../output/test3/ricci-flow/test3-ricciflow-5.edgelist\",    # path checkpoint\n",
    "                        nodetype=int, \n",
    "                        create_using=nx.DiGraph\n",
    "                        )"
   ]
  },
  {
   "cell_type": "code",
   "execution_count": null,
   "metadata": {},
   "outputs": [],
   "source": [
    "G_chkpt.nodes(), G_chkpt.edges(), G_chkpt.edges[(1,2)]"
   ]
  },
  {
   "cell_type": "markdown",
   "metadata": {},
   "source": [
    "### Using networkit"
   ]
  },
  {
   "cell_type": "code",
   "execution_count": null,
   "metadata": {},
   "outputs": [],
   "source": [
    "G_ricci_nk = nk.nxadapter.nx2nk(G_ricci,  weightAttr=\"weight\")"
   ]
  },
  {
   "cell_type": "code",
   "execution_count": null,
   "metadata": {},
   "outputs": [],
   "source": [
    "G_ricci_nk.totalEdgeWeight()"
   ]
  },
  {
   "cell_type": "code",
   "execution_count": null,
   "metadata": {},
   "outputs": [],
   "source": [
    "nk.overview(G_ricci_nk)"
   ]
  },
  {
   "cell_type": "code",
   "execution_count": null,
   "metadata": {},
   "outputs": [],
   "source": [
    "import pandas as pd\n",
    "import seaborn as sns\n",
    "df=pd.DataFrame(list(G.edges(data=True)), columns=[\"node1\",\"node2\",\"feats\"])"
   ]
  },
  {
   "cell_type": "code",
   "execution_count": null,
   "metadata": {},
   "outputs": [],
   "source": [
    "df[[\"curvature\",\"weights\"]]=df[\"feats\"].apply(lambda row: pd.Series(row))"
   ]
  },
  {
   "cell_type": "code",
   "execution_count": null,
   "metadata": {},
   "outputs": [],
   "source": [
    "sns.histplot(data=df, x=\"curvature\", stat=\"count\", bins=100, discrete=False)"
   ]
  },
  {
   "cell_type": "code",
   "execution_count": null,
   "metadata": {},
   "outputs": [],
   "source": [
    "import matplotlib.pyplot as plt\n",
    "import matplotlib.animation as animation\n",
    "import seaborn as sns\n",
    "%matplotlib notebook"
   ]
  },
  {
   "cell_type": "code",
   "execution_count": null,
   "metadata": {},
   "outputs": [],
   "source": [
    "def animate(i):\n",
    "    G=nx.read_edgelist(\n",
    "    f\"/home/avila/panricci/output/DQA1-3117-nodes-alpha/nodes-a5-ricciflow-{i}.edgelist\",\n",
    "    nodetype=int, \n",
    "    create_using=nx.DiGraph\n",
    "    )\n",
    "    df=pd.DataFrame(list(G.edges(data=True)), columns=[\"node1\",\"node2\",\"feats\"])\n",
    "    graph = sns.histplot(data=df, x=\"curvature\", stat=\"count\", bins=100, discrete=False)"
   ]
  },
  {
   "cell_type": "code",
   "execution_count": null,
   "metadata": {},
   "outputs": [],
   "source": [
    "fig = plt.figure()\n",
    "fig.suptitle('Histogram of curvatures per epoch', fontsize=14) \n",
    "\n",
    "anim = animation.FuncAnimation(fig, animate, frames=20,interval=700,repeat=True)\n",
    "anim.save(\"../ricciflow-curvatures.mp4\")\n",
    "# converting to an html5 video \n",
    "video = anim.to_html5_video() \n",
    "  \n",
    "# embedding for the video \n",
    "html = display.HTML(video) \n",
    "  \n",
    "# draw the animation \n",
    "display.display(html) \n",
    "plt.close() "
   ]
  }
 ],
 "metadata": {
  "kernelspec": {
   "display_name": "panricci2",
   "language": "python",
   "name": "python3"
  },
  "language_info": {
   "codemirror_mode": {
    "name": "ipython",
    "version": 3
   },
   "file_extension": ".py",
   "mimetype": "text/x-python",
   "name": "python",
   "nbconvert_exporter": "python",
   "pygments_lexer": "ipython3",
   "version": "3.10.13"
  }
 },
 "nbformat": 4,
 "nbformat_minor": 2
}
