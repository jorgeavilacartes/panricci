{
 "cells": [
  {
   "cell_type": "code",
   "execution_count": 1,
   "metadata": {},
   "outputs": [],
   "source": [
    "import sys\n",
    "from pathlib import Path\n",
    "\n",
    "# add parent folder to the path\n",
    "module_path = str(Path.cwd().parents[0])\n",
    "if module_path not in sys.path:\n",
    "    sys.path.append(module_path)"
   ]
  },
  {
   "attachments": {},
   "cell_type": "markdown",
   "metadata": {},
   "source": [
    "# PanRicci"
   ]
  },
  {
   "cell_type": "code",
   "execution_count": 2,
   "metadata": {},
   "outputs": [],
   "source": [
    "import networkx as nx\n",
    "import numpy as np\n",
    "import math\n",
    "import ot"
   ]
  },
  {
   "attachments": {},
   "cell_type": "markdown",
   "metadata": {},
   "source": [
    "## Load GFA"
   ]
  },
  {
   "cell_type": "code",
   "execution_count": 3,
   "metadata": {},
   "outputs": [],
   "source": [
    "from panricci.utils.gfa_loader import GFALoader"
   ]
  },
  {
   "cell_type": "code",
   "execution_count": 4,
   "metadata": {},
   "outputs": [],
   "source": [
    "gfa_loader = GFALoader(undirected=False)\n",
    "nodes, edges, G = gfa_loader(\"../data/test1.gfa\")"
   ]
  },
  {
   "cell_type": "code",
   "execution_count": 5,
   "metadata": {},
   "outputs": [
    {
     "data": {
      "text/plain": [
       "{'1': {'label': 'AC', 'len': 2, 'node_depth': 1.0},\n",
       " '2': {'label': 'AA', 'len': 2, 'node_depth': 0.5},\n",
       " '3': {'label': 'CCTAAA', 'len': 6, 'node_depth': 1.0}}"
      ]
     },
     "execution_count": 5,
     "metadata": {},
     "output_type": "execute_result"
    }
   ],
   "source": [
    "nodes"
   ]
  },
  {
   "cell_type": "code",
   "execution_count": 6,
   "metadata": {},
   "outputs": [
    {
     "data": {
      "text/plain": [
       "[('1', '3'), ('1', '2'), ('2', '3')]"
      ]
     },
     "execution_count": 6,
     "metadata": {},
     "output_type": "execute_result"
    }
   ],
   "source": [
    "edges"
   ]
  },
  {
   "cell_type": "code",
   "execution_count": 7,
   "metadata": {},
   "outputs": [],
   "source": [
    "F = nx.DiGraph()\n",
    "F.add_nodes_from([(node, attrs) for node, attrs in nodes.items()])\n",
    "F.add_edges_from(edges, distance=1)"
   ]
  },
  {
   "cell_type": "code",
   "execution_count": 8,
   "metadata": {},
   "outputs": [
    {
     "data": {
      "text/plain": [
       "({'label': 'AC', 'len': 2, 'node_depth': 1.0}, 1.0)"
      ]
     },
     "execution_count": 8,
     "metadata": {},
     "output_type": "execute_result"
    }
   ],
   "source": [
    "# access and modify attributes of nodes as a dictionary\n",
    "F.nodes[\"1\"] ,F.nodes[\"1\"][\"node_depth\"]"
   ]
  },
  {
   "cell_type": "code",
   "execution_count": 9,
   "metadata": {},
   "outputs": [
    {
     "data": {
      "text/plain": [
       "({'distance': 1, 'curvature': 5}, 5)"
      ]
     },
     "execution_count": 9,
     "metadata": {},
     "output_type": "execute_result"
    }
   ],
   "source": [
    "# access and modify attributes of edges as a dictionary\n",
    "F.edges[\"1\",\"3\"][\"curvature\"] = 5\n",
    "F.edges[\"1\",\"3\"], F.edges[\"1\",\"3\"].get(\"curvature\")"
   ]
  },
  {
   "cell_type": "code",
   "execution_count": 10,
   "metadata": {},
   "outputs": [
    {
     "data": {
      "text/plain": [
       "{'distance': 1, 'curvature': 5}"
      ]
     },
     "execution_count": 10,
     "metadata": {},
     "output_type": "execute_result"
    }
   ],
   "source": [
    "F.edges[\"1\",\"3\"]"
   ]
  },
  {
   "attachments": {},
   "cell_type": "markdown",
   "metadata": {},
   "source": [
    "## Probability distribution for a node"
   ]
  },
  {
   "cell_type": "code",
   "execution_count": 11,
   "metadata": {},
   "outputs": [
    {
     "data": {
      "text/plain": [
       "{'label': 'AA', 'len': 2, 'node_depth': 0.5}"
      ]
     },
     "execution_count": 11,
     "metadata": {},
     "output_type": "execute_result"
    }
   ],
   "source": [
    "G.nodes[\"2\"]"
   ]
  },
  {
   "cell_type": "code",
   "execution_count": 12,
   "metadata": {},
   "outputs": [],
   "source": [
    "from panricci.distributions.variation_graph import DistributionNodes\n",
    "distribution_nodes = DistributionNodes(G, alpha=0.5)"
   ]
  },
  {
   "cell_type": "code",
   "execution_count": 13,
   "metadata": {},
   "outputs": [
    {
     "data": {
      "text/plain": [
       "{'2': 0.5, '3': 0.5}"
      ]
     },
     "execution_count": 13,
     "metadata": {},
     "output_type": "execute_result"
    }
   ],
   "source": [
    "distribution_nodes(node=\"2\")"
   ]
  },
  {
   "attachments": {},
   "cell_type": "markdown",
   "metadata": {},
   "source": [
    "## Ricci Flow"
   ]
  },
  {
   "cell_type": "code",
   "execution_count": 14,
   "metadata": {},
   "outputs": [],
   "source": [
    "from panricci.ricci_flow import RicciFlow\n",
    "\n",
    "ricci = RicciFlow(G, dist_nodes=distribution_nodes, dirsave_graphs=\"../output/test3/ricci-flow\")\n"
   ]
  },
  {
   "cell_type": "code",
   "execution_count": 15,
   "metadata": {},
   "outputs": [
    {
     "name": "stderr",
     "output_type": "stream",
     "text": [
      "Ricci-Flow: 100%|██████████| 5/5 [00:00<00:00, 383.95it/s]\n"
     ]
    }
   ],
   "source": [
    "ricci(iterations=5)"
   ]
  },
  {
   "cell_type": "code",
   "execution_count": null,
   "metadata": {},
   "outputs": [],
   "source": [
    "# def curvature(edge):\n",
    "edge=[\"1\",\"2\"]\n",
    "node1, node2 = edge\n",
    "distance = G.edges[edge][\"distance\"]\n",
    "distance"
   ]
  },
  {
   "cell_type": "code",
   "execution_count": null,
   "metadata": {},
   "outputs": [],
   "source": [
    "neighbors1 = distribution_nodes(node1)\n",
    "neighbors2 = distribution_nodes(node2)\n",
    "\n",
    "neighbors1, neighbors2"
   ]
  },
  {
   "cell_type": "code",
   "execution_count": null,
   "metadata": {},
   "outputs": [],
   "source": [
    "import numpy as np\n",
    "\n",
    "def wasserstein(dist1, dist2):\n",
    "    nodes_subgraph = list(dist1.keys()) + list(dist2.keys())\n",
    "    subgraph = G.subgraph(nodes_subgraph)\n",
    "    distances_subgraph = nx.shortest_path(subgraph, weight=\"distance\", method=\"dijkstra\")#, subgraph.edges()\n",
    "    \n",
    "    # distance matrix for OT\n",
    "    M = np.zeros((len(neighbors1),len(neighbors2)))\n",
    "\n",
    "    for i,source in enumerate(neighbors1.keys()):\n",
    "        for j,target in enumerate(neighbors2.keys()):\n",
    "            try:\n",
    "                nodes = distances_subgraph[source][target]\n",
    "                edges = [(n1,n2) for n1,n2 in zip(nodes[:-1], nodes[1])]\n",
    "                M[i,j] = np.sum([G.edges[e][\"distance\"] for e in edges])\n",
    "            except:\n",
    "                continue\n",
    "    \n",
    "    M /= M.max()\n",
    "\n",
    "    a,b=list(neighbors1.values()), list(neighbors2.values())\n",
    "    return ot.emd2(a,b,M)\n",
    "\n",
    "\n",
    "def curvature(edge):\n",
    "    node1, node2 = edge\n",
    "    neighbors1 = distribution_nodes(node1)\n",
    "    neighbors2 = distribution_nodes(node2)\n",
    "    wass = wasserstein(neighbors1, neighbors2)\n",
    "    distance = G.edges[edge][\"distance\"]\n",
    "    curvature = 1 - wass/distance\n",
    "\n",
    "    return curvature\n"
   ]
  },
  {
   "cell_type": "code",
   "execution_count": null,
   "metadata": {},
   "outputs": [],
   "source": [
    "\n",
    "wass = wasserstein(neighbors1, neighbors2)"
   ]
  },
  {
   "cell_type": "code",
   "execution_count": null,
   "metadata": {},
   "outputs": [],
   "source": [
    "curvature([\"2\",\"3\"])"
   ]
  },
  {
   "cell_type": "code",
   "execution_count": null,
   "metadata": {},
   "outputs": [],
   "source": [
    "nodes_subgraph = list(neighbors1.keys()) + list(neighbors2.keys())\n",
    "subgraph = G.subgraph(nodes_subgraph)\n"
   ]
  },
  {
   "cell_type": "code",
   "execution_count": null,
   "metadata": {},
   "outputs": [],
   "source": [
    "distances_subgraph = nx.shortest_path(subgraph, weight=\"distance\", method=\"dijkstra\")#, subgraph.edges()\n",
    "distances_subgraph[\"2\"][\"3\"]"
   ]
  },
  {
   "cell_type": "code",
   "execution_count": null,
   "metadata": {},
   "outputs": [],
   "source": [
    "import numpy as np\n",
    "M = np.zeros((len(neighbors1),len(neighbors2)))\n",
    "\n",
    "for i,source in enumerate(neighbors1.keys()):\n",
    "    for j,target in enumerate(neighbors2.keys()):\n",
    "        try:\n",
    "            nodes = distances_subgraph[source][target]\n",
    "            edges = [(n1,n2) for n1,n2 in zip(nodes[:-1], nodes[1])]\n",
    "            M[i,j] = np.sum([G.edges[e][\"distance\"] for e in edges])\n",
    "        except:\n",
    "            continue\n",
    " \n",
    "M /= M.max()\n",
    "M"
   ]
  },
  {
   "cell_type": "code",
   "execution_count": null,
   "metadata": {},
   "outputs": [],
   "source": [
    "a,b=list(neighbors1.values()), list(neighbors2.values())\n",
    "ot.emd2(a,b,M)"
   ]
  },
  {
   "cell_type": "code",
   "execution_count": null,
   "metadata": {},
   "outputs": [],
   "source": [
    "\n"
   ]
  },
  {
   "attachments": {},
   "cell_type": "markdown",
   "metadata": {},
   "source": [
    "## Alignment with "
   ]
  }
 ],
 "metadata": {
  "kernelspec": {
   "display_name": "panricci",
   "language": "python",
   "name": "python3"
  },
  "language_info": {
   "codemirror_mode": {
    "name": "ipython",
    "version": 3
   },
   "file_extension": ".py",
   "mimetype": "text/x-python",
   "name": "python",
   "nbconvert_exporter": "python",
   "pygments_lexer": "ipython3",
   "version": "3.11.4"
  },
  "orig_nbformat": 4
 },
 "nbformat": 4,
 "nbformat_minor": 2
}
