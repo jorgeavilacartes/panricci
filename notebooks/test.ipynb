{
 "cells": [
  {
   "cell_type": "code",
   "execution_count": 1,
   "metadata": {},
   "outputs": [],
   "source": [
    "import sys\n",
    "from pathlib import Path\n",
    "\n",
    "# add parent folder to the path\n",
    "module_path = str(Path.cwd().parents[0])\n",
    "if module_path not in sys.path:\n",
    "    sys.path.append(module_path)"
   ]
  },
  {
   "attachments": {},
   "cell_type": "markdown",
   "metadata": {},
   "source": [
    "# PanRicci"
   ]
  },
  {
   "cell_type": "code",
   "execution_count": 2,
   "metadata": {},
   "outputs": [],
   "source": [
    "import networkx as nx\n",
    "import numpy as np\n",
    "import math\n",
    "import ot"
   ]
  },
  {
   "attachments": {},
   "cell_type": "markdown",
   "metadata": {},
   "source": [
    "## Load GFA"
   ]
  },
  {
   "cell_type": "code",
   "execution_count": 3,
   "metadata": {},
   "outputs": [],
   "source": [
    "from panricci.utils.gfa_loader import GFALoader"
   ]
  },
  {
   "cell_type": "code",
   "execution_count": 4,
   "metadata": {},
   "outputs": [],
   "source": [
    "gfa_loader = GFALoader(undirected=False)\n",
    "nodes, edges, G = gfa_loader(\"../data/test1.gfa\")"
   ]
  },
  {
   "cell_type": "code",
   "execution_count": 5,
   "metadata": {},
   "outputs": [
    {
     "data": {
      "text/plain": [
       "{'1': {'label': 'AC', 'len': 2, 'node_depth': 1.0},\n",
       " '2': {'label': 'AA', 'len': 2, 'node_depth': 0.5},\n",
       " '3': {'label': 'CCTAAA', 'len': 6, 'node_depth': 1.0}}"
      ]
     },
     "execution_count": 5,
     "metadata": {},
     "output_type": "execute_result"
    }
   ],
   "source": [
    "nodes"
   ]
  },
  {
   "cell_type": "code",
   "execution_count": 6,
   "metadata": {},
   "outputs": [
    {
     "data": {
      "text/plain": [
       "[('1', '3'), ('1', '2'), ('2', '3')]"
      ]
     },
     "execution_count": 6,
     "metadata": {},
     "output_type": "execute_result"
    }
   ],
   "source": [
    "edges"
   ]
  },
  {
   "attachments": {},
   "cell_type": "markdown",
   "metadata": {},
   "source": [
    "## Probability distribution for a node"
   ]
  },
  {
   "cell_type": "code",
   "execution_count": 7,
   "metadata": {},
   "outputs": [],
   "source": [
    "from panricci.distributions.variation_graph import DistributionNodes\n",
    "distribution_nodes = DistributionNodes(G, alpha=0.5)"
   ]
  },
  {
   "cell_type": "code",
   "execution_count": 8,
   "metadata": {},
   "outputs": [
    {
     "data": {
      "text/plain": [
       "{'2': 0.5, '3': 0.5}"
      ]
     },
     "execution_count": 8,
     "metadata": {},
     "output_type": "execute_result"
    }
   ],
   "source": [
    "distribution_nodes(node=\"2\")"
   ]
  },
  {
   "attachments": {},
   "cell_type": "markdown",
   "metadata": {},
   "source": [
    "## Ricci Flow"
   ]
  },
  {
   "cell_type": "code",
   "execution_count": 10,
   "metadata": {},
   "outputs": [],
   "source": [
    "from panricci.ricci_flow import RicciFlow\n",
    "ricci_flow = RicciFlow(G, dirsave_graphs=\"../output/test3/ricci-flow\")"
   ]
  },
  {
   "cell_type": "code",
   "execution_count": 11,
   "metadata": {},
   "outputs": [
    {
     "name": "stderr",
     "output_type": "stream",
     "text": [
      "Ricci-Flow: 100%|██████████| 10/10 [00:00<00:00, 268.43it/s]\n"
     ]
    },
    {
     "data": {
      "text/plain": [
       "<networkx.classes.digraph.DiGraph at 0x7f509ddab410>"
      ]
     },
     "execution_count": 11,
     "metadata": {},
     "output_type": "execute_result"
    }
   ],
   "source": [
    "ricci_flow(iterations=10)"
   ]
  },
  {
   "attachments": {},
   "cell_type": "markdown",
   "metadata": {},
   "source": [
    "## Alignment of pangenome graphs"
   ]
  },
  {
   "cell_type": "code",
   "execution_count": 12,
   "metadata": {},
   "outputs": [],
   "source": [
    "from panricci.utils.gfa_loader import GFALoader\n",
    "from panricci.distributions.variation_graph import DistributionNodes\n",
    "from panricci.ricci_flow import RicciFlow"
   ]
  },
  {
   "cell_type": "code",
   "execution_count": 13,
   "metadata": {},
   "outputs": [
    {
     "name": "stderr",
     "output_type": "stream",
     "text": [
      "Ricci-Flow: 100%|██████████| 10/10 [00:00<00:00, 22.32it/s]\n",
      "Ricci-Flow: 100%|██████████| 10/10 [00:00<00:00, 111.82it/s]\n"
     ]
    }
   ],
   "source": [
    "path_graph1 = Path(\"../data/test1.gfa\")\n",
    "path_graph2 = Path(\"../data/test2.gfa\")\n",
    "\n",
    "graph1_name = path_graph1.stem\n",
    "graph2_name = path_graph2.stem\n",
    "\n",
    "# load graphs\n",
    "gfa_loader = GFALoader(undirected=False)\n",
    "_, _, graph1 = gfa_loader(path_graph1)\n",
    "_, _, graph2 = gfa_loader(path_graph2)\n",
    "\n",
    "# define distribution of nodes for each graph\n",
    "graph1_distribution_nodes = DistributionNodes(graph1, alpha=0.5)\n",
    "graph2_distribution_nodes = DistributionNodes(graph2, alpha=0.5)\n",
    "\n",
    "# instantiate Ricci-Flow for each graph\n",
    "graph1_ricci_flow = RicciFlow(graph1, dirsave_graphs=f\"../output/{graph1_name}/ricci-flow\")\n",
    "graph2_ricci_flow = RicciFlow(graph2, dirsave_graphs=f\"../output/{graph2_name}/ricci-flow\")\n",
    "\n",
    "# Run Ricci-Flow for a number of iterations\n",
    "ITERATIONS=10\n",
    "ricci_graph1 = graph1_ricci_flow(iterations=ITERATIONS, save_intermediate_graphs=True)\n",
    "ricci_graph2 = graph2_ricci_flow(iterations=ITERATIONS, save_intermediate_graphs=True)"
   ]
  },
  {
   "attachments": {},
   "cell_type": "markdown",
   "metadata": {},
   "source": [
    "2. We add source and sink nodes with arbitrary distance of $1$ to both graphs"
   ]
  },
  {
   "cell_type": "code",
   "execution_count": 15,
   "metadata": {},
   "outputs": [
    {
     "data": {
      "text/plain": [
       "(OutEdgeView([('1', '3'), ('1', '2'), ('2', '3')]),\n",
       " OutEdgeView([('1', '3'), ('1', '2'), ('2', '3')]))"
      ]
     },
     "execution_count": 15,
     "metadata": {},
     "output_type": "execute_result"
    }
   ],
   "source": [
    "ricci_graph1.edges(), ricci_graph2.edges()"
   ]
  },
  {
   "cell_type": "code",
   "execution_count": 16,
   "metadata": {},
   "outputs": [],
   "source": [
    "def get_sources_sinks(path_gfa):\n",
    "    sources = []\n",
    "    sinks   = []\n",
    "    with open(path_gfa, \"r\") as fp:\n",
    "        for line in fp.readlines():\n",
    "\n",
    "            # paths\n",
    "            nodes_path=[]\n",
    "            if line.startswith(\"P\"):\n",
    "                _, seq_id, path, *_ = line.replace(\"\\n\",\"\").split(\"\\t\")\n",
    "\n",
    "                nodes = path.split(\",\")\n",
    "                source = nodes[0]\n",
    "                sink = nodes[-1]\n",
    "\n",
    "                sourceid = source.replace(\"+\",\"\").replace(\"-\",\"\")\n",
    "                sinkid = sink.replace(\"+\",\"\").replace(\"-\",\"\")\n",
    "\n",
    "                sources.append(sourceid)\n",
    "                sinks.append(sinkid)\n",
    "    \n",
    "    return sources, sinks\n"
   ]
  },
  {
   "cell_type": "code",
   "execution_count": 17,
   "metadata": {},
   "outputs": [
    {
     "data": {
      "text/plain": [
       "(NodeView(('1', '2', '3', 'source', 'sink')),\n",
       " OutEdgeView([('1', '3'), ('1', '2'), ('2', '3'), ('3', 'sink'), ('source', '1')]))"
      ]
     },
     "execution_count": 17,
     "metadata": {},
     "output_type": "execute_result"
    }
   ],
   "source": [
    "#  graph1 \n",
    "sources, sinks = get_sources_sinks(path_graph1)\n",
    "ricci_graph1.add_edges_from([(\"source\",node) for node in sources] , distance=1, label=\"N\")\n",
    "ricci_graph1.add_edges_from([(node,\"sink\") for node in sinks] , distance=1, label=\"N\")\n",
    "ricci_graph1.nodes(), ricci_graph1.edges()"
   ]
  },
  {
   "cell_type": "code",
   "execution_count": 18,
   "metadata": {},
   "outputs": [
    {
     "data": {
      "text/plain": [
       "(NodeView(('1', '2', '3', 'source', 'sink')),\n",
       " OutEdgeView([('1', '3'), ('1', '2'), ('2', '3'), ('3', 'sink'), ('source', '1')]))"
      ]
     },
     "execution_count": 18,
     "metadata": {},
     "output_type": "execute_result"
    }
   ],
   "source": [
    "#  graph2 \n",
    "sources, sinks = get_sources_sinks(path_graph2)\n",
    "ricci_graph2.add_edges_from([(\"source\",node) for node in sources] , distance=1, label=\"N\")\n",
    "ricci_graph2.add_edges_from([(node,\"sink\") for node in sinks] , distance=1, label=\"N\")\n",
    "ricci_graph2.nodes(), ricci_graph2.edges()"
   ]
  },
  {
   "attachments": {},
   "cell_type": "markdown",
   "metadata": {},
   "source": [
    "3. Given source node $s$ and sink node $t$. For each graph, and each node $ u \\neq s,t$ compute the vectors $$u_L = [d(s,u), d(u,t)]$$"
   ]
  },
  {
   "attachments": {},
   "cell_type": "markdown",
   "metadata": {},
   "source": [
    "**Graph1**"
   ]
  },
  {
   "cell_type": "code",
   "execution_count": 19,
   "metadata": {},
   "outputs": [],
   "source": [
    "sp_from_source = nx.shortest_path(ricci_graph1, source=\"source\", weight=\"distance\", method=\"dijkstra\")\n",
    "sp_until_sink = nx.shortest_path(ricci_graph1, target=\"sink\", weight=\"distance\", method=\"dijkstra\")\n",
    "\n",
    "del sp_from_source[\"source\"]\n",
    "del sp_until_sink[\"sink\"]\n",
    "# sp_from_source\n",
    "# sp_until_sink"
   ]
  },
  {
   "cell_type": "code",
   "execution_count": 20,
   "metadata": {},
   "outputs": [
    {
     "data": {
      "text/plain": [
       "({'1': 1,\n",
       "  '3': 1.6318812829104834,\n",
       "  '2': 1.3531559590013926,\n",
       "  'sink': 2.6318812829104834},\n",
       " {'3': 1, '1': 1.6318812829104834, '2': 1.5, 'source': 2.6318812829104834})"
      ]
     },
     "execution_count": 20,
     "metadata": {},
     "output_type": "execute_result"
    }
   ],
   "source": [
    "costs_from_source = dict()\n",
    "costs_until_sink = dict()\n",
    "for start_node, path in sp_from_source.items():\n",
    "    nodes = path\n",
    "    edges = [(n1,n2) for n1,n2 in zip(nodes[:-1], nodes[1:])]\n",
    "    cost  = np.sum([ricci_graph1.edges[e][\"distance\"] for e in edges])\n",
    "    costs_from_source[start_node] = cost\n",
    "\n",
    "for end_node, path in sp_until_sink.items():\n",
    "    nodes = path\n",
    "    edges = [(n1,n2) for n1,n2 in zip(nodes[:-1], nodes[1:])]\n",
    "    cost  = np.sum([ricci_graph1.edges[e][\"distance\"] for e in edges])\n",
    "    costs_until_sink[end_node] = cost\n",
    "\n",
    "costs_from_source, costs_until_sink"
   ]
  },
  {
   "cell_type": "code",
   "execution_count": 21,
   "metadata": {},
   "outputs": [
    {
     "data": {
      "text/plain": [
       "{'1': array([1.        , 1.63188128]),\n",
       " '2': array([1.35315596, 1.5       ]),\n",
       " '3': array([1.63188128, 1.        ])}"
      ]
     },
     "execution_count": 21,
     "metadata": {},
     "output_type": "execute_result"
    }
   ],
   "source": [
    "graph1_vector_nodes = {node: np.array([costs_from_source[node], costs_until_sink[node]]) for node in ricci_graph1.nodes() if node not in [\"source\", \"sink\"]}\n",
    "graph1_vector_nodes"
   ]
  },
  {
   "attachments": {},
   "cell_type": "markdown",
   "metadata": {},
   "source": [
    "**Graph 2**"
   ]
  },
  {
   "cell_type": "code",
   "execution_count": 22,
   "metadata": {},
   "outputs": [],
   "source": [
    "sp_from_source = nx.shortest_path(ricci_graph2, source=\"source\", weight=\"distance\", method=\"dijkstra\")\n",
    "sp_until_sink = nx.shortest_path(ricci_graph2, target=\"sink\", weight=\"distance\", method=\"dijkstra\")\n",
    "\n",
    "del sp_from_source[\"source\"]\n",
    "del sp_until_sink[\"sink\"]"
   ]
  },
  {
   "cell_type": "code",
   "execution_count": 24,
   "metadata": {},
   "outputs": [
    {
     "data": {
      "text/plain": [
       "({'1': 1,\n",
       "  '3': 1.6318812829104834,\n",
       "  '2': 1.3531559590013926,\n",
       "  'sink': 2.6318812829104834},\n",
       " {'3': 1, '1': 1.6318812829104834, '2': 1.5, 'source': 2.6318812829104834})"
      ]
     },
     "execution_count": 24,
     "metadata": {},
     "output_type": "execute_result"
    }
   ],
   "source": [
    "costs_from_source = dict()\n",
    "costs_until_sink = dict()\n",
    "for start_node, path in sp_from_source.items():\n",
    "    nodes = path\n",
    "    edges = [(n1,n2) for n1,n2 in zip(nodes[:-1], nodes[1:])]\n",
    "    cost  = np.sum([ricci_graph1.edges[e][\"distance\"] for e in edges])\n",
    "    costs_from_source[start_node] = cost\n",
    "\n",
    "for end_node, path in sp_until_sink.items():\n",
    "    nodes = path\n",
    "    edges = [(n1,n2) for n1,n2 in zip(nodes[:-1], nodes[1:])]\n",
    "    cost  = np.sum([ricci_graph1.edges[e][\"distance\"] for e in edges])\n",
    "    costs_until_sink[end_node] = cost\n",
    "\n",
    "costs_from_source, costs_until_sink"
   ]
  },
  {
   "cell_type": "code",
   "execution_count": 25,
   "metadata": {},
   "outputs": [
    {
     "data": {
      "text/plain": [
       "{'1': array([1.        , 1.63188128]),\n",
       " '2': array([1.35315596, 1.5       ]),\n",
       " '3': array([1.63188128, 1.        ])}"
      ]
     },
     "execution_count": 25,
     "metadata": {},
     "output_type": "execute_result"
    }
   ],
   "source": [
    "graph2_vector_nodes = {node: np.array([costs_from_source[node], costs_until_sink[node]]) for node in ricci_graph2.nodes() if node not in [\"source\", \"sink\"]}\n",
    "graph2_vector_nodes"
   ]
  },
  {
   "attachments": {},
   "cell_type": "markdown",
   "metadata": {},
   "source": [
    "4. Find the alignment between both graphs using [minimum_weight_full_matching](https://networkx.org/documentation/stable/reference/algorithms/generated/networkx.algorithms.bipartite.matching.minimum_weight_full_matching.html)\n",
    "\n",
    "- First create a bipartite graph with nodes of both graphs in each component\n",
    "- Then add the weights of matching each pair of nodes as $|| u_1 - u_2 ||$"
   ]
  },
  {
   "cell_type": "code",
   "execution_count": 26,
   "metadata": {},
   "outputs": [],
   "source": [
    "# remove source and sink nodes from both graphs\n",
    "ricci_graph1.remove_nodes_from([\"source\",\"sink\"])\n",
    "ricci_graph2.remove_nodes_from([\"source\",\"sink\"])"
   ]
  },
  {
   "cell_type": "code",
   "execution_count": 27,
   "metadata": {},
   "outputs": [],
   "source": [
    "# create bipartite graph \n",
    "# nodes are labeled as '<node>-1', if <node> it belongs to the first graph, and '<node>-2' from the second one\n",
    "# the cost/weight of an edge (u,v) correspong for the  \n",
    "bipartite_graph = nx.Graph()\n",
    "# nodes = []\n",
    "# edges = []\n",
    "for node1 in ricci_graph1.nodes():\n",
    "    for node2 in ricci_graph2.nodes():\n",
    "        weight = np.linalg.norm(graph1_vector_nodes[node1] - graph2_vector_nodes[node2])\n",
    "        bipartite_graph.add_edge(node1+\"-1\", node2+\"-2\", weight=weight)"
   ]
  },
  {
   "cell_type": "code",
   "execution_count": 28,
   "metadata": {},
   "outputs": [
    {
     "data": {
      "text/plain": [
       "EdgeView([('1-1', '1-2'), ('1-1', '2-2'), ('1-1', '3-2'), ('1-2', '2-1'), ('1-2', '3-1'), ('2-2', '2-1'), ('2-2', '3-1'), ('3-2', '2-1'), ('3-2', '3-1')])"
      ]
     },
     "execution_count": 28,
     "metadata": {},
     "output_type": "execute_result"
    }
   ],
   "source": [
    "bipartite_graph.edges()"
   ]
  },
  {
   "cell_type": "code",
   "execution_count": 29,
   "metadata": {},
   "outputs": [
    {
     "data": {
      "text/plain": [
       "{'3-1': '3-2',\n",
       " '1-1': '1-2',\n",
       " '2-1': '2-2',\n",
       " '3-2': '3-1',\n",
       " '1-2': '1-1',\n",
       " '2-2': '2-1'}"
      ]
     },
     "execution_count": 29,
     "metadata": {},
     "output_type": "execute_result"
    }
   ],
   "source": [
    "alignment = nx.bipartite.minimum_weight_full_matching(bipartite_graph, weight=\"weight\")\n",
    "alignment"
   ]
  },
  {
   "cell_type": "code",
   "execution_count": null,
   "metadata": {},
   "outputs": [],
   "source": []
  }
 ],
 "metadata": {
  "kernelspec": {
   "display_name": "panricci",
   "language": "python",
   "name": "python3"
  },
  "language_info": {
   "codemirror_mode": {
    "name": "ipython",
    "version": 3
   },
   "file_extension": ".py",
   "mimetype": "text/x-python",
   "name": "python",
   "nbconvert_exporter": "python",
   "pygments_lexer": "ipython3",
   "version": "3.11.4"
  },
  "orig_nbformat": 4
 },
 "nbformat": 4,
 "nbformat_minor": 2
}
