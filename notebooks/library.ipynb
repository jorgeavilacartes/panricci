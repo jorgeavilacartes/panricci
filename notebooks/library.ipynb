{
 "cells": [
  {
   "cell_type": "code",
   "execution_count": 1,
   "metadata": {},
   "outputs": [],
   "source": [
    "from panricci import  (\n",
    "    RicciFlow,\n",
    "    PanRicciSimilarity\n",
    ")"
   ]
  },
  {
   "cell_type": "code",
   "execution_count": 2,
   "metadata": {},
   "outputs": [],
   "source": [
    "from pathlib import Path\n",
    "DIRSAVE=Path(\"../output/DQA1-3117-nodes-alpha\")\n",
    "prsim = PanRicciSimilarity(alpha=0.5, iterations=30,                          \n",
    "                          directed=True, \n",
    "                          threshold_alignment=1000000,\n",
    "                          dirsave=DIRSAVE\n",
    "                          )"
   ]
  },
  {
   "cell_type": "code",
   "execution_count": 3,
   "metadata": {},
   "outputs": [],
   "source": [
    "path1 = \"/data/analysis-paper/experiments/mini-experiment-standard-not_alpha_consistent-not_fixblock/gfa-unchop/nodes/penalization0-min_len0-min_coverage0-alpha1/DQA1-3117.gfa\"\n",
    "# path2 = \"/data/analysis-paper/experiments/mini-experiment-standard-not_alpha_consistent-not_fixblock/gfa-unchop/depth_and_len/penalization0-min_len0-min_coverage0-alpha1/DQB1-3119.gfa\"\n",
    "path2 = \"/data/analysis-paper/experiments/mini-experiment-standard-not_alpha_consistent-not_fixblock/gfa-unchop/nodes/penalization0-min_len0-min_coverage0-alpha5/DQA1-3117.gfa\""
   ]
  },
  {
   "cell_type": "code",
   "execution_count": 4,
   "metadata": {},
   "outputs": [
    {
     "name": "stderr",
     "output_type": "stream",
     "text": [
      "RicciFlow:   0%|          | 0/30 [00:00<?, ?it/s]"
     ]
    },
    {
     "name": "stderr",
     "output_type": "stream",
     "text": [
      "RicciFlow: 100%|██████████| 30/30 [00:51<00:00,  1.73s/it]\n",
      "RicciFlow: 100%|██████████| 30/30 [00:41<00:00,  1.39s/it]\n"
     ]
    }
   ],
   "source": [
    "metric, alignment = prsim(path1, path2, name_gfa1=\"nodes-a1\", name_gfa2=\"nodes-a5\")"
   ]
  },
  {
   "cell_type": "code",
   "execution_count": 5,
   "metadata": {},
   "outputs": [
    {
     "data": {
      "text/plain": [
       "[]"
      ]
     },
     "execution_count": 5,
     "metadata": {},
     "output_type": "execute_result"
    }
   ],
   "source": [
    "alignment"
   ]
  },
  {
   "cell_type": "code",
   "execution_count": 6,
   "metadata": {},
   "outputs": [],
   "source": [
    "import pandas as pd\n",
    "pd.DataFrame(alignment, columns=[\"edge\",\"weight\"]).to_csv(DIRSAVE.joinpath(\"edge_weigths.csv\"))"
   ]
  },
  {
   "cell_type": "code",
   "execution_count": 7,
   "metadata": {},
   "outputs": [
    {
     "ename": "TypeError",
     "evalue": "GFALoader.__init__() got an unexpected keyword argument 'directed'",
     "output_type": "error",
     "traceback": [
      "\u001b[0;31m---------------------------------------------------------------------------\u001b[0m",
      "\u001b[0;31mTypeError\u001b[0m                                 Traceback (most recent call last)",
      "\u001b[1;32m/home/avila/panricci/notebooks/library.ipynb Cell 7\u001b[0m line \u001b[0;36m2\n\u001b[1;32m      <a href='vscode-notebook-cell://ssh-remote%2Bpangeblocks-pasteur/home/avila/panricci/notebooks/library.ipynb#W6sdnNjb2RlLXJlbW90ZQ%3D%3D?line=0'>1</a>\u001b[0m \u001b[39mfrom\u001b[39;00m \u001b[39mpanricci\u001b[39;00m\u001b[39m.\u001b[39;00m\u001b[39mutils\u001b[39;00m\u001b[39m.\u001b[39;00m\u001b[39mgfa_loader\u001b[39;00m \u001b[39mimport\u001b[39;00m GFALoader\n\u001b[0;32m----> <a href='vscode-notebook-cell://ssh-remote%2Bpangeblocks-pasteur/home/avila/panricci/notebooks/library.ipynb#W6sdnNjb2RlLXJlbW90ZQ%3D%3D?line=1'>2</a>\u001b[0m gfa_loader \u001b[39m=\u001b[39m GFALoader(directed\u001b[39m=\u001b[39;49m\u001b[39mTrue\u001b[39;49;00m)\n\u001b[1;32m      <a href='vscode-notebook-cell://ssh-remote%2Bpangeblocks-pasteur/home/avila/panricci/notebooks/library.ipynb#W6sdnNjb2RlLXJlbW90ZQ%3D%3D?line=2'>3</a>\u001b[0m nodes1, edges1, G1 \u001b[39m=\u001b[39m gfa_loader(path1)\n\u001b[1;32m      <a href='vscode-notebook-cell://ssh-remote%2Bpangeblocks-pasteur/home/avila/panricci/notebooks/library.ipynb#W6sdnNjb2RlLXJlbW90ZQ%3D%3D?line=3'>4</a>\u001b[0m nodes2, edges2, G2 \u001b[39m=\u001b[39m gfa_loader(path2)\n",
      "\u001b[0;31mTypeError\u001b[0m: GFALoader.__init__() got an unexpected keyword argument 'directed'"
     ]
    }
   ],
   "source": [
    "from panricci.utils.gfa_loader import GFALoader\n",
    "gfa_loader = GFALoader(directed=True)\n",
    "nodes1, edges1, G1 = gfa_loader(path1)\n",
    "nodes2, edges2, G2 = gfa_loader(path2)\n",
    "len(nodes1), len(nodes2)\n"
   ]
  },
  {
   "cell_type": "code",
   "execution_count": null,
   "metadata": {},
   "outputs": [],
   "source": [
    "edge = alignment[0][0]\n"
   ]
  },
  {
   "cell_type": "code",
   "execution_count": null,
   "metadata": {},
   "outputs": [],
   "source": [
    "edge , weight = alignment[0]\n",
    "node1,node2 = edge # function to parse solution to node id in the original graphs\n",
    "node1 = node1.replace(\"-1\",\"\")\n",
    "node2 = node2.replace(\"-2\",\"\")\n"
   ]
  },
  {
   "cell_type": "code",
   "execution_count": null,
   "metadata": {},
   "outputs": [],
   "source": [
    "sorted(edge, key=lambda x:x , reverse=True)"
   ]
  },
  {
   "cell_type": "markdown",
   "metadata": {},
   "source": [
    "Add label and node_depth to the dataframe to each node "
   ]
  },
  {
   "cell_type": "code",
   "execution_count": null,
   "metadata": {},
   "outputs": [],
   "source": [
    "features = []\n",
    "for edge, weight in alignment:\n",
    "    \n",
    "    edge = sorted(edge, key=lambda x: int(x.split(\"-\")[-1]) , reverse=False)\n",
    "    node1,node2 = edge # TODO: function to parse solution to node id in the original graphs\n",
    "    \n",
    "    node1 = node1.replace(\"-1\",\"\")\n",
    "    node2 = node2.replace(\"-2\",\"\")\n",
    "\n",
    "    info1, info2 = G1.nodes[node1], G2.nodes[node2]\n",
    "    features.append(\n",
    "        dict(\n",
    "            label1=info1[\"label\"],\n",
    "            label2=info2[\"label\"],\n",
    "            node_depth1=info1[\"node_depth\"],\n",
    "            node_depth2=info1[\"node_depth\"],\n",
    "        )\n",
    "    )"
   ]
  },
  {
   "cell_type": "code",
   "execution_count": null,
   "metadata": {},
   "outputs": [],
   "source": [
    "alignment_info = pd.concat([pd.DataFrame(alignment, columns=[\"edge\",\"weight\"]), pd.DataFrame(features)], axis=1)"
   ]
  },
  {
   "cell_type": "code",
   "execution_count": null,
   "metadata": {},
   "outputs": [],
   "source": [
    "alignment_info.sort_values(by=\"weight\", ascending=False).head(20)"
   ]
  },
  {
   "cell_type": "code",
   "execution_count": null,
   "metadata": {},
   "outputs": [],
   "source": [
    "alignment_info.apply(lambda row: row.label1 == row.label2,axis=1).sum() / alignment_info.shape[0]"
   ]
  },
  {
   "cell_type": "code",
   "execution_count": null,
   "metadata": {},
   "outputs": [],
   "source": []
  }
 ],
 "metadata": {
  "kernelspec": {
   "display_name": "panricci",
   "language": "python",
   "name": "python3"
  },
  "language_info": {
   "codemirror_mode": {
    "name": "ipython",
    "version": 3
   },
   "file_extension": ".py",
   "mimetype": "text/x-python",
   "name": "python",
   "nbconvert_exporter": "python",
   "pygments_lexer": "ipython3",
   "version": "3.10.13"
  }
 },
 "nbformat": 4,
 "nbformat_minor": 2
}
