{
 "cells": [
  {
   "cell_type": "code",
   "execution_count": 1,
   "metadata": {},
   "outputs": [],
   "source": [
    "from panricci import RicciFlow\n",
    "from panricci.distributions.variation_graph import DistributionNodes\n",
    "from panricci.alignment import GraphAlignment, parse_alignment\n",
    "from panricci.utils import GFALoader"
   ]
  },
  {
   "cell_type": "markdown",
   "metadata": {},
   "source": [
    "___\n",
    "# Alignment of two variation graphs \n",
    "\n",
    "### 1. Load graphs and apply Ricci-Flow"
   ]
  },
  {
   "cell_type": "code",
   "execution_count": 2,
   "metadata": {},
   "outputs": [],
   "source": [
    "path1 = \"/data/analysis-paper/experiments/mini-experiment-standard-not_alpha_consistent-not_fixblock/gfa-unchop/nodes/penalization0-min_len0-min_coverage0-alpha1/DQA1-3117.gfa\"\n",
    "path2 = \"/data/analysis-paper/experiments/mini-experiment-standard-not_alpha_consistent-not_fixblock/gfa-unchop/nodes/penalization0-min_len0-min_coverage0-alpha10/DQA1-3117.gfa\""
   ]
  },
  {
   "cell_type": "code",
   "execution_count": 3,
   "metadata": {},
   "outputs": [],
   "source": [
    "def run_ricci_flow(path_gfa, name):\n",
    "    # load graph\n",
    "    gfa_loader = GFALoader(undirected=False)\n",
    "    G = gfa_loader(path_gfa)\n",
    "\n",
    "    # compute distribution of nodes\n",
    "    distribution = DistributionNodes(G, alpha=0.5)\n",
    "\n",
    "    # Initialize ricci-flow\n",
    "    ricci_flow = RicciFlow(G, distribution, dirsave_graphs=\"../output/graph-alignment/ricci-flow\")\n",
    "    G_ricci = ricci_flow.run(iterations=5, save_last=False, save_intermediate_graphs=True, name=name)\n",
    "\n",
    "    return G_ricci"
   ]
  },
  {
   "cell_type": "code",
   "execution_count": 4,
   "metadata": {},
   "outputs": [
    {
     "name": "stderr",
     "output_type": "stream",
     "text": [
      "RicciFlow: 100%|██████████| 5/5 [00:03<00:00,  1.41it/s]\n",
      "RicciFlow: 100%|██████████| 5/5 [00:01<00:00,  2.87it/s]\n"
     ]
    }
   ],
   "source": [
    "G1 = run_ricci_flow(path1, \"DQA1-3117-alpha1\")\n",
    "G2 = run_ricci_flow(path2, \"DQA1-3117-alpha10\")"
   ]
  },
  {
   "cell_type": "markdown",
   "metadata": {},
   "source": [
    "### 2. Align them "
   ]
  },
  {
   "cell_type": "code",
   "execution_count": 14,
   "metadata": {},
   "outputs": [],
   "source": [
    "aligner = GraphAlignment(dirsave=\"../output/graph-alignment\", ricci_embedding = False, seq_embedding = True, kmer_size=4)\n",
    "alignment = aligner(G1, G2, name=\"DQA1-3117-alpha1-alpha10\")"
   ]
  },
  {
   "cell_type": "code",
   "execution_count": 16,
   "metadata": {},
   "outputs": [
    {
     "data": {
      "text/html": [
       "<div>\n",
       "<style scoped>\n",
       "    .dataframe tbody tr th:only-of-type {\n",
       "        vertical-align: middle;\n",
       "    }\n",
       "\n",
       "    .dataframe tbody tr th {\n",
       "        vertical-align: top;\n",
       "    }\n",
       "\n",
       "    .dataframe thead th {\n",
       "        text-align: right;\n",
       "    }\n",
       "</style>\n",
       "<table border=\"1\" class=\"dataframe\">\n",
       "  <thead>\n",
       "    <tr style=\"text-align: right;\">\n",
       "      <th></th>\n",
       "      <th>edge</th>\n",
       "      <th>cost_alignment</th>\n",
       "      <th>node1</th>\n",
       "      <th>node2</th>\n",
       "      <th>label1</th>\n",
       "      <th>label2</th>\n",
       "      <th>node_depth1</th>\n",
       "      <th>node_depth2</th>\n",
       "    </tr>\n",
       "  </thead>\n",
       "  <tbody>\n",
       "    <tr>\n",
       "      <th>327</th>\n",
       "      <td>[300-1, 188-2]</td>\n",
       "      <td>0.002893</td>\n",
       "      <td>300</td>\n",
       "      <td>188</td>\n",
       "      <td>AAAAATATCAAAAGTAAAAATGTATTCTCAAAACTTTAAATTTATG...</td>\n",
       "      <td>AAAAATATCAAAAGTAAAAATGTATTCTCAAAACTTTAAATTTATG...</td>\n",
       "      <td>0.1</td>\n",
       "      <td>0.1</td>\n",
       "    </tr>\n",
       "    <tr>\n",
       "      <th>395</th>\n",
       "      <td>[1473-1, 187-2]</td>\n",
       "      <td>0.008055</td>\n",
       "      <td>1473</td>\n",
       "      <td>187</td>\n",
       "      <td>TTTGAATC</td>\n",
       "      <td>ATTTGAATCTC</td>\n",
       "      <td>1.0</td>\n",
       "      <td>1.0</td>\n",
       "    </tr>\n",
       "    <tr>\n",
       "      <th>559</th>\n",
       "      <td>[1179-1, 353-2]</td>\n",
       "      <td>0.027863</td>\n",
       "      <td>1179</td>\n",
       "      <td>353</td>\n",
       "      <td>TACAGTACATTGTATCTGTTCCCTTACCTACCTGACTCTTCCACTA...</td>\n",
       "      <td>CGATATCCTCCTCAGAGAACTTACTACAGTACATTGTATCTGTTCC...</td>\n",
       "      <td>0.3</td>\n",
       "      <td>0.3</td>\n",
       "    </tr>\n",
       "    <tr>\n",
       "      <th>63</th>\n",
       "      <td>[870-1, 507-2]</td>\n",
       "      <td>0.028338</td>\n",
       "      <td>870</td>\n",
       "      <td>507</td>\n",
       "      <td>G</td>\n",
       "      <td>CATGGGCAATGCAGAGAACCCTCCAT</td>\n",
       "      <td>0.4</td>\n",
       "      <td>0.4</td>\n",
       "    </tr>\n",
       "    <tr>\n",
       "      <th>465</th>\n",
       "      <td>[1341-1, 260-2]</td>\n",
       "      <td>0.028390</td>\n",
       "      <td>1341</td>\n",
       "      <td>260</td>\n",
       "      <td>T</td>\n",
       "      <td>CTTTTAAGATTAGAAAAAAATGAAATTTCAGAGCCTAAGAAAATG</td>\n",
       "      <td>0.9</td>\n",
       "      <td>0.9</td>\n",
       "    </tr>\n",
       "    <tr>\n",
       "      <th>...</th>\n",
       "      <td>...</td>\n",
       "      <td>...</td>\n",
       "      <td>...</td>\n",
       "      <td>...</td>\n",
       "      <td>...</td>\n",
       "      <td>...</td>\n",
       "      <td>...</td>\n",
       "      <td>...</td>\n",
       "    </tr>\n",
       "    <tr>\n",
       "      <th>170</th>\n",
       "      <td>[354-1, 439-2]</td>\n",
       "      <td>0.160643</td>\n",
       "      <td>354</td>\n",
       "      <td>439</td>\n",
       "      <td>G</td>\n",
       "      <td>CAGAGAAATAAGTTA</td>\n",
       "      <td>0.8</td>\n",
       "      <td>0.8</td>\n",
       "    </tr>\n",
       "    <tr>\n",
       "      <th>240</th>\n",
       "      <td>[502-1, 279-2]</td>\n",
       "      <td>0.167273</td>\n",
       "      <td>502</td>\n",
       "      <td>279</td>\n",
       "      <td>TG</td>\n",
       "      <td>TGGAGAAATAAATTA</td>\n",
       "      <td>0.4</td>\n",
       "      <td>0.4</td>\n",
       "    </tr>\n",
       "    <tr>\n",
       "      <th>464</th>\n",
       "      <td>[1349-1, 580-2]</td>\n",
       "      <td>0.171804</td>\n",
       "      <td>1349</td>\n",
       "      <td>580</td>\n",
       "      <td>T</td>\n",
       "      <td>CACAATTGCTCTACAGCTCAGAACAGCAACTGCTG</td>\n",
       "      <td>0.4</td>\n",
       "      <td>0.4</td>\n",
       "    </tr>\n",
       "    <tr>\n",
       "      <th>307</th>\n",
       "      <td>[210-1, 400-2]</td>\n",
       "      <td>0.216239</td>\n",
       "      <td>210</td>\n",
       "      <td>400</td>\n",
       "      <td>A</td>\n",
       "      <td>GGATAAAGGAA</td>\n",
       "      <td>0.8</td>\n",
       "      <td>0.8</td>\n",
       "    </tr>\n",
       "    <tr>\n",
       "      <th>245</th>\n",
       "      <td>[275-1, 304-2]</td>\n",
       "      <td>0.347240</td>\n",
       "      <td>275</td>\n",
       "      <td>304</td>\n",
       "      <td>AGGTAAATAAG</td>\n",
       "      <td>CTTTGAATCAC</td>\n",
       "      <td>1.0</td>\n",
       "      <td>1.0</td>\n",
       "    </tr>\n",
       "  </tbody>\n",
       "</table>\n",
       "<p>669 rows × 8 columns</p>\n",
       "</div>"
      ],
      "text/plain": [
       "                edge  cost_alignment node1 node2  \\\n",
       "327   [300-1, 188-2]        0.002893   300   188   \n",
       "395  [1473-1, 187-2]        0.008055  1473   187   \n",
       "559  [1179-1, 353-2]        0.027863  1179   353   \n",
       "63    [870-1, 507-2]        0.028338   870   507   \n",
       "465  [1341-1, 260-2]        0.028390  1341   260   \n",
       "..               ...             ...   ...   ...   \n",
       "170   [354-1, 439-2]        0.160643   354   439   \n",
       "240   [502-1, 279-2]        0.167273   502   279   \n",
       "464  [1349-1, 580-2]        0.171804  1349   580   \n",
       "307   [210-1, 400-2]        0.216239   210   400   \n",
       "245   [275-1, 304-2]        0.347240   275   304   \n",
       "\n",
       "                                                label1  \\\n",
       "327  AAAAATATCAAAAGTAAAAATGTATTCTCAAAACTTTAAATTTATG...   \n",
       "395                                           TTTGAATC   \n",
       "559  TACAGTACATTGTATCTGTTCCCTTACCTACCTGACTCTTCCACTA...   \n",
       "63                                                   G   \n",
       "465                                                  T   \n",
       "..                                                 ...   \n",
       "170                                                  G   \n",
       "240                                                 TG   \n",
       "464                                                  T   \n",
       "307                                                  A   \n",
       "245                                        AGGTAAATAAG   \n",
       "\n",
       "                                                label2  node_depth1  \\\n",
       "327  AAAAATATCAAAAGTAAAAATGTATTCTCAAAACTTTAAATTTATG...          0.1   \n",
       "395                                        ATTTGAATCTC          1.0   \n",
       "559  CGATATCCTCCTCAGAGAACTTACTACAGTACATTGTATCTGTTCC...          0.3   \n",
       "63                          CATGGGCAATGCAGAGAACCCTCCAT          0.4   \n",
       "465      CTTTTAAGATTAGAAAAAAATGAAATTTCAGAGCCTAAGAAAATG          0.9   \n",
       "..                                                 ...          ...   \n",
       "170                                    CAGAGAAATAAGTTA          0.8   \n",
       "240                                    TGGAGAAATAAATTA          0.4   \n",
       "464                CACAATTGCTCTACAGCTCAGAACAGCAACTGCTG          0.4   \n",
       "307                                        GGATAAAGGAA          0.8   \n",
       "245                                        CTTTGAATCAC          1.0   \n",
       "\n",
       "     node_depth2  \n",
       "327          0.1  \n",
       "395          1.0  \n",
       "559          0.3  \n",
       "63           0.4  \n",
       "465          0.9  \n",
       "..           ...  \n",
       "170          0.8  \n",
       "240          0.4  \n",
       "464          0.4  \n",
       "307          0.8  \n",
       "245          1.0  \n",
       "\n",
       "[669 rows x 8 columns]"
      ]
     },
     "execution_count": 16,
     "metadata": {},
     "output_type": "execute_result"
    }
   ],
   "source": [
    "parse_alignment(alignment, G1, G2).sort_values(by=\"cost_alignment\")"
   ]
  },
  {
   "cell_type": "markdown",
   "metadata": {},
   "source": [
    "### 3. Compute Similarity between graphs"
   ]
  },
  {
   "cell_type": "code",
   "execution_count": 8,
   "metadata": {},
   "outputs": [],
   "source": [
    "from panricci.similarity import Jaccard"
   ]
  },
  {
   "cell_type": "code",
   "execution_count": 9,
   "metadata": {},
   "outputs": [
    {
     "data": {
      "text/plain": [
       "0.5997310623038996"
      ]
     },
     "execution_count": 9,
     "metadata": {},
     "output_type": "execute_result"
    }
   ],
   "source": [
    "jaccard = Jaccard(threshold_cost=500)\n",
    "jaccard(alignment, G1, G2)"
   ]
  },
  {
   "cell_type": "code",
   "execution_count": 10,
   "metadata": {},
   "outputs": [
    {
     "data": {
      "text/plain": [
       "1562"
      ]
     },
     "execution_count": 10,
     "metadata": {},
     "output_type": "execute_result"
    }
   ],
   "source": [
    "len(G1)"
   ]
  },
  {
   "cell_type": "code",
   "execution_count": 11,
   "metadata": {},
   "outputs": [
    {
     "data": {
      "text/plain": [
       "669"
      ]
     },
     "execution_count": 11,
     "metadata": {},
     "output_type": "execute_result"
    }
   ],
   "source": [
    "len(G2)"
   ]
  },
  {
   "cell_type": "code",
   "execution_count": 12,
   "metadata": {},
   "outputs": [
    {
     "data": {
      "text/plain": [
       "669"
      ]
     },
     "execution_count": 12,
     "metadata": {},
     "output_type": "execute_result"
    }
   ],
   "source": [
    "len(alignment)"
   ]
  },
  {
   "cell_type": "code",
   "execution_count": 13,
   "metadata": {},
   "outputs": [
    {
     "ename": "NameError",
     "evalue": "name 'df_align' is not defined",
     "output_type": "error",
     "traceback": [
      "\u001b[0;31m---------------------------------------------------------------------------\u001b[0m",
      "\u001b[0;31mNameError\u001b[0m                                 Traceback (most recent call last)",
      "\u001b[1;32m/home/avila/panricci/notebooks/graph-alignment.ipynb Cell 16\u001b[0m line \u001b[0;36m1\n\u001b[0;32m----> <a href='vscode-notebook-cell://ssh-remote%2Bpangeblocks-pasteur/home/avila/panricci/notebooks/graph-alignment.ipynb#X21sdnNjb2RlLXJlbW90ZQ%3D%3D?line=0'>1</a>\u001b[0m df_align\n",
      "\u001b[0;31mNameError\u001b[0m: name 'df_align' is not defined"
     ]
    }
   ],
   "source": [
    "df_align"
   ]
  },
  {
   "cell_type": "code",
   "execution_count": null,
   "metadata": {},
   "outputs": [],
   "source": []
  }
 ],
 "metadata": {
  "kernelspec": {
   "display_name": "panricci2",
   "language": "python",
   "name": "python3"
  },
  "language_info": {
   "codemirror_mode": {
    "name": "ipython",
    "version": 3
   },
   "file_extension": ".py",
   "mimetype": "text/x-python",
   "name": "python",
   "nbconvert_exporter": "python",
   "pygments_lexer": "ipython3",
   "version": "3.10.13"
  }
 },
 "nbformat": 4,
 "nbformat_minor": 2
}
