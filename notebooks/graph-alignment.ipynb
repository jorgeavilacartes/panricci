{
 "cells": [
  {
   "cell_type": "code",
   "execution_count": 1,
   "metadata": {},
   "outputs": [],
   "source": [
    "from panricci import RicciFlow\n",
    "from panricci.distributions.variation_graph import DistributionNodes\n",
    "from panricci.alignment import GraphAlignment, parse_alignment\n",
    "from panricci.utils import GFALoader"
   ]
  },
  {
   "cell_type": "markdown",
   "metadata": {},
   "source": [
    "___\n",
    "# Alignment of two variation graphs \n",
    "\n",
    "### 1. Load graphs and apply Ricci-Flow"
   ]
  },
  {
   "cell_type": "code",
   "execution_count": 2,
   "metadata": {},
   "outputs": [],
   "source": [
    "path1 = \"/data/analysis-paper/experiments/mini-experiment-standard-not_alpha_consistent-not_fixblock/gfa-unchop/nodes/penalization0-min_len0-min_coverage0-alpha1/DQA1-3117.gfa\"\n",
    "path2 = \"/data/analysis-paper/experiments/mini-experiment-standard-not_alpha_consistent-not_fixblock/gfa-unchop/nodes/penalization0-min_len0-min_coverage0-alpha50/DQA1-3117.gfa\""
   ]
  },
  {
   "cell_type": "code",
   "execution_count": 3,
   "metadata": {},
   "outputs": [],
   "source": [
    "def run_ricci_flow(path_gfa, name):\n",
    "    # load graph\n",
    "    gfa_loader = GFALoader(undirected=False)\n",
    "    G = gfa_loader(path_gfa)\n",
    "\n",
    "    # compute distribution of nodes\n",
    "    distribution = DistributionNodes(G, alpha=0.5)\n",
    "\n",
    "    # Initialize ricci-flow\n",
    "    ricci_flow = RicciFlow(G, distribution, dirsave_graphs=\"../output/graph-alignment/ricci-flow\")\n",
    "    G_ricci = ricci_flow.run(iterations=5, save_last=False, save_intermediate_graphs=True, name=name)\n",
    "\n",
    "    return G_ricci"
   ]
  },
  {
   "cell_type": "code",
   "execution_count": 4,
   "metadata": {},
   "outputs": [
    {
     "name": "stderr",
     "output_type": "stream",
     "text": [
      "RicciFlow:   0%|          | 0/5 [00:00<?, ?it/s]"
     ]
    },
    {
     "name": "stderr",
     "output_type": "stream",
     "text": [
      "RicciFlow: 100%|██████████| 5/5 [00:03<00:00,  1.40it/s]\n",
      "RicciFlow: 100%|██████████| 5/5 [00:00<00:00,  6.42it/s]\n"
     ]
    }
   ],
   "source": [
    "G1 = run_ricci_flow(path1, \"DQA1-3117-alpha1\")\n",
    "G2 = run_ricci_flow(path2, \"DQA1-3117-alpha50\")"
   ]
  },
  {
   "cell_type": "markdown",
   "metadata": {},
   "source": [
    "### 2. Align them "
   ]
  },
  {
   "cell_type": "code",
   "execution_count": 5,
   "metadata": {},
   "outputs": [],
   "source": [
    "aligner = GraphAlignment(dirsave=\"../output/graph-alignment\")\n",
    "alignment = aligner(G1, G2, name=\"DQA1-3117-alpha1-alpha50\")"
   ]
  },
  {
   "cell_type": "code",
   "execution_count": 6,
   "metadata": {},
   "outputs": [
    {
     "data": {
      "text/html": [
       "<div>\n",
       "<style scoped>\n",
       "    .dataframe tbody tr th:only-of-type {\n",
       "        vertical-align: middle;\n",
       "    }\n",
       "\n",
       "    .dataframe tbody tr th {\n",
       "        vertical-align: top;\n",
       "    }\n",
       "\n",
       "    .dataframe thead th {\n",
       "        text-align: right;\n",
       "    }\n",
       "</style>\n",
       "<table border=\"1\" class=\"dataframe\">\n",
       "  <thead>\n",
       "    <tr style=\"text-align: right;\">\n",
       "      <th></th>\n",
       "      <th>edge</th>\n",
       "      <th>cost_alignment</th>\n",
       "      <th>node1</th>\n",
       "      <th>node2</th>\n",
       "      <th>label1</th>\n",
       "      <th>label2</th>\n",
       "      <th>node_depth1</th>\n",
       "      <th>node_depth2</th>\n",
       "    </tr>\n",
       "  </thead>\n",
       "  <tbody>\n",
       "    <tr>\n",
       "      <th>0</th>\n",
       "      <td>[965-1, 99-2]</td>\n",
       "      <td>168.936823</td>\n",
       "      <td>965</td>\n",
       "      <td>99</td>\n",
       "      <td>C</td>\n",
       "      <td>C</td>\n",
       "      <td>0.2</td>\n",
       "      <td>0.2</td>\n",
       "    </tr>\n",
       "    <tr>\n",
       "      <th>1</th>\n",
       "      <td>[999-1, 93-2]</td>\n",
       "      <td>159.289894</td>\n",
       "      <td>999</td>\n",
       "      <td>93</td>\n",
       "      <td>TTTAT</td>\n",
       "      <td>AATATAA</td>\n",
       "      <td>1.0</td>\n",
       "      <td>1.0</td>\n",
       "    </tr>\n",
       "    <tr>\n",
       "      <th>2</th>\n",
       "      <td>[865-1, 89-2]</td>\n",
       "      <td>169.041005</td>\n",
       "      <td>865</td>\n",
       "      <td>89</td>\n",
       "      <td>AGAC</td>\n",
       "      <td>AAGTCC</td>\n",
       "      <td>1.0</td>\n",
       "      <td>1.0</td>\n",
       "    </tr>\n",
       "    <tr>\n",
       "      <th>3</th>\n",
       "      <td>[91-1, 84-2]</td>\n",
       "      <td>165.869217</td>\n",
       "      <td>91</td>\n",
       "      <td>84</td>\n",
       "      <td>A</td>\n",
       "      <td>AC</td>\n",
       "      <td>0.8</td>\n",
       "      <td>0.8</td>\n",
       "    </tr>\n",
       "    <tr>\n",
       "      <th>4</th>\n",
       "      <td>[961-1, 82-2]</td>\n",
       "      <td>169.317525</td>\n",
       "      <td>961</td>\n",
       "      <td>82</td>\n",
       "      <td>TG</td>\n",
       "      <td>TG</td>\n",
       "      <td>0.2</td>\n",
       "      <td>0.2</td>\n",
       "    </tr>\n",
       "    <tr>\n",
       "      <th>...</th>\n",
       "      <td>...</td>\n",
       "      <td>...</td>\n",
       "      <td>...</td>\n",
       "      <td>...</td>\n",
       "      <td>...</td>\n",
       "      <td>...</td>\n",
       "      <td>...</td>\n",
       "      <td>...</td>\n",
       "    </tr>\n",
       "    <tr>\n",
       "      <th>336</th>\n",
       "      <td>[1001-1, 237-2]</td>\n",
       "      <td>168.870152</td>\n",
       "      <td>1001</td>\n",
       "      <td>237</td>\n",
       "      <td>A</td>\n",
       "      <td>TGATGAGATTTATGACTGCAAGGTGGAGCACTGGGGCCTGGATGAG...</td>\n",
       "      <td>0.8</td>\n",
       "      <td>0.8</td>\n",
       "    </tr>\n",
       "    <tr>\n",
       "      <th>337</th>\n",
       "      <td>[247-1, 100-2]</td>\n",
       "      <td>167.121765</td>\n",
       "      <td>247</td>\n",
       "      <td>100</td>\n",
       "      <td>A</td>\n",
       "      <td>A</td>\n",
       "      <td>0.4</td>\n",
       "      <td>0.4</td>\n",
       "    </tr>\n",
       "    <tr>\n",
       "      <th>338</th>\n",
       "      <td>[100-1, 163-2]</td>\n",
       "      <td>166.453387</td>\n",
       "      <td>100</td>\n",
       "      <td>163</td>\n",
       "      <td>AA</td>\n",
       "      <td>AACTTGGATGGCCAGATGTTGAGA</td>\n",
       "      <td>1.0</td>\n",
       "      <td>1.0</td>\n",
       "    </tr>\n",
       "    <tr>\n",
       "      <th>339</th>\n",
       "      <td>[939-1, 10-2]</td>\n",
       "      <td>164.843641</td>\n",
       "      <td>939</td>\n",
       "      <td>10</td>\n",
       "      <td>G</td>\n",
       "      <td>G</td>\n",
       "      <td>0.6</td>\n",
       "      <td>0.6</td>\n",
       "    </tr>\n",
       "    <tr>\n",
       "      <th>340</th>\n",
       "      <td>[104-1, 1-2]</td>\n",
       "      <td>169.622852</td>\n",
       "      <td>104</td>\n",
       "      <td>1</td>\n",
       "      <td>A</td>\n",
       "      <td>GGTAAAGGAGTCCAGCAGGCTGAATGCCTTCAACAATCATTTTACC...</td>\n",
       "      <td>0.2</td>\n",
       "      <td>0.2</td>\n",
       "    </tr>\n",
       "  </tbody>\n",
       "</table>\n",
       "<p>341 rows × 8 columns</p>\n",
       "</div>"
      ],
      "text/plain": [
       "                edge  cost_alignment node1 node2 label1  \\\n",
       "0      [965-1, 99-2]      168.936823   965    99      C   \n",
       "1      [999-1, 93-2]      159.289894   999    93  TTTAT   \n",
       "2      [865-1, 89-2]      169.041005   865    89   AGAC   \n",
       "3       [91-1, 84-2]      165.869217    91    84      A   \n",
       "4      [961-1, 82-2]      169.317525   961    82     TG   \n",
       "..               ...             ...   ...   ...    ...   \n",
       "336  [1001-1, 237-2]      168.870152  1001   237      A   \n",
       "337   [247-1, 100-2]      167.121765   247   100      A   \n",
       "338   [100-1, 163-2]      166.453387   100   163     AA   \n",
       "339    [939-1, 10-2]      164.843641   939    10      G   \n",
       "340     [104-1, 1-2]      169.622852   104     1      A   \n",
       "\n",
       "                                                label2  node_depth1  \\\n",
       "0                                                    C          0.2   \n",
       "1                                              AATATAA          1.0   \n",
       "2                                               AAGTCC          1.0   \n",
       "3                                                   AC          0.8   \n",
       "4                                                   TG          0.2   \n",
       "..                                                 ...          ...   \n",
       "336  TGATGAGATTTATGACTGCAAGGTGGAGCACTGGGGCCTGGATGAG...          0.8   \n",
       "337                                                  A          0.4   \n",
       "338                           AACTTGGATGGCCAGATGTTGAGA          1.0   \n",
       "339                                                  G          0.6   \n",
       "340  GGTAAAGGAGTCCAGCAGGCTGAATGCCTTCAACAATCATTTTACC...          0.2   \n",
       "\n",
       "     node_depth2  \n",
       "0            0.2  \n",
       "1            1.0  \n",
       "2            1.0  \n",
       "3            0.8  \n",
       "4            0.2  \n",
       "..           ...  \n",
       "336          0.8  \n",
       "337          0.4  \n",
       "338          1.0  \n",
       "339          0.6  \n",
       "340          0.2  \n",
       "\n",
       "[341 rows x 8 columns]"
      ]
     },
     "execution_count": 6,
     "metadata": {},
     "output_type": "execute_result"
    }
   ],
   "source": [
    "parse_alignment(alignment, G1, G2)"
   ]
  },
  {
   "cell_type": "markdown",
   "metadata": {},
   "source": [
    "### 3. Compute Similarity between graphs"
   ]
  },
  {
   "cell_type": "code",
   "execution_count": 7,
   "metadata": {},
   "outputs": [],
   "source": [
    "from panricci.similarity import Jaccard"
   ]
  },
  {
   "cell_type": "code",
   "execution_count": 12,
   "metadata": {},
   "outputs": [
    {
     "data": {
      "text/plain": [
       "0.3583815028901734"
      ]
     },
     "execution_count": 12,
     "metadata": {},
     "output_type": "execute_result"
    }
   ],
   "source": [
    "jaccard = Jaccard(threshold_cost=500)\n",
    "jaccard(alignment, G1, G2)"
   ]
  },
  {
   "cell_type": "code",
   "execution_count": null,
   "metadata": {},
   "outputs": [],
   "source": []
  }
 ],
 "metadata": {
  "kernelspec": {
   "display_name": "panricci2",
   "language": "python",
   "name": "python3"
  },
  "language_info": {
   "codemirror_mode": {
    "name": "ipython",
    "version": 3
   },
   "file_extension": ".py",
   "mimetype": "text/x-python",
   "name": "python",
   "nbconvert_exporter": "python",
   "pygments_lexer": "ipython3",
   "version": "3.10.13"
  }
 },
 "nbformat": 4,
 "nbformat_minor": 2
}
