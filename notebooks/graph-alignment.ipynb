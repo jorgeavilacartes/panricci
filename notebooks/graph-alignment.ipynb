{
 "cells": [
  {
   "cell_type": "code",
   "execution_count": 13,
   "metadata": {},
   "outputs": [],
   "source": [
    "from pathlib import Path\n",
    "from panricci import RicciFlow, NormalizedRicciFlow\n",
    "from panricci.distributions.variation_graph import DistributionNodes\n",
    "from panricci.alignment import GraphAlignment, parse_alignment\n",
    "from panricci.utils import GFALoader"
   ]
  },
  {
   "cell_type": "markdown",
   "metadata": {},
   "source": [
    "___\n",
    "# Alignment of two variation graphs \n",
    "\n",
    "### 1. Load graphs and apply Ricci-Flow"
   ]
  },
  {
   "cell_type": "code",
   "execution_count": 14,
   "metadata": {},
   "outputs": [],
   "source": [
    "LOSS_FUNCTION = \"depth_and_len\"\n",
    "NEW_LOSS_NAME =  \"pen_strings\"\n",
    "ALPHA = 243\n",
    "PATH_SAVE = Path(f\"../output/pangeblocks-strings-{NEW_LOSS_NAME}-alpha{ALPHA}\")\n",
    "PATH_SAVE.mkdir(exist_ok=True, parents=True)\n",
    "NORMALIZED=False\n",
    "# path1 = \"/data/analysis-paper/experiments/vg/sars-cov-2/50-SARS-CoV2-MSA.gfa\"\n",
    "path2 = f\"/data/analysis-paper/experiments-decompositions/sars-cov-2-50-row_maximal-not_alpha_consistent-not_fixblock/gfa-unchop/strings/penalization0-min_len0-min_coverage0-alpha{ALPHA}/50-SARS-CoV2-MSA.gfa\"\n",
    "path2 = f\"/data/analysis-paper/experiments-decompositions/sars-cov-2-50-row_maximal-not_alpha_consistent-not_fixblock/gfa-unchop/{LOSS_FUNCTION}/penalization0-min_len0-min_coverage0-alpha{ALPHA}/50-SARS-CoV2-MSA.gfa\""
   ]
  },
  {
   "cell_type": "code",
   "execution_count": 15,
   "metadata": {},
   "outputs": [],
   "source": [
    "# path1 = \"/data/analysis-paper/experiments/mini-experiment-standard-not_alpha_consistent-not_fixblock/gfa-unchop/nodes/penalization0-min_len0-min_coverage0-alpha1/DQA1-3117.gfa\"\n",
    "# path2 = \"/data/analysis-paper/experiments/mini-experiment-standard-not_alpha_consistent-not_fixblock/gfa-unchop/nodes/penalization0-min_len0-min_coverage0-alpha10/DQA1-3117.gfa\""
   ]
  },
  {
   "cell_type": "code",
   "execution_count": 16,
   "metadata": {},
   "outputs": [],
   "source": [
    "def run_ricci_flow(path_gfa, name , normalized=False):\n",
    "    # load graph\n",
    "    gfa_loader = GFALoader(undirected=False)\n",
    "    G = gfa_loader(path_gfa)\n",
    "\n",
    "    # compute distribution of nodes\n",
    "    distribution = DistributionNodes(G, alpha=0.5)\n",
    "\n",
    "    # Initialize ricci-flow / normalized-ricci-flow\n",
    "    if normalized is True:\n",
    "        ricci_flow = NormalizedRicciFlow(G,\n",
    "                                         distribution,\n",
    "                                         sigma=10,\n",
    "                                         save_last=False, \n",
    "                                         save_intermediate_graphs=True, \n",
    "                                         dirsave_graphs=PATH_SAVE.joinpath(\"alignment/normalized-ricci-flow\")\n",
    "                                         )\n",
    "    else:\n",
    "        ricci_flow = RicciFlow(G, \n",
    "                               distribution, \n",
    "                               save_last=False, \n",
    "                               save_intermediate_graphs=True, \n",
    "                               dirsave_graphs=PATH_SAVE.joinpath(\"alignment/ricci-flow\")\n",
    "                               )\n",
    "    G_ricci = ricci_flow.run(iterations=5, name=name)\n",
    "\n",
    "    return G_ricci"
   ]
  },
  {
   "cell_type": "code",
   "execution_count": 17,
   "metadata": {},
   "outputs": [
    {
     "name": "stderr",
     "output_type": "stream",
     "text": [
      "RicciFlow: 100%|██████████| 5/5 [00:03<00:00,  1.62it/s]\n",
      "RicciFlow: 100%|██████████| 5/5 [00:03<00:00,  1.67it/s]\n"
     ]
    }
   ],
   "source": [
    "G1 = run_ricci_flow(path1, \"pangeblocks-strings\", normalized=NORMALIZED)\n",
    "G2 = run_ricci_flow(path2, \"pangeblocks-pos_strings\", normalized=NORMALIZED)"
   ]
  },
  {
   "cell_type": "markdown",
   "metadata": {},
   "source": [
    "### 2. Align them "
   ]
  },
  {
   "cell_type": "code",
   "execution_count": 18,
   "metadata": {},
   "outputs": [],
   "source": [
    "aligner = GraphAlignment(\n",
    "    dirsave=\"../output/graph-alignment\", \n",
    "    ricci_embedding = True, \n",
    "    seq_embedding = False, \n",
    "    kmer_size=4)\n",
    "alignment = aligner(G1, G2, name=\"pangeblocks-ricci_embedding\")"
   ]
  },
  {
   "cell_type": "code",
   "execution_count": 19,
   "metadata": {},
   "outputs": [],
   "source": [
    "parse_alignment(alignment, G1, G2).\\\n",
    "    sort_values(by=\"cost_alignment\").\\\n",
    "    to_csv(PATH_SAVE.joinpath(\"alignment-pangeblocks-strings-pos_strings.tsv\"),sep=\"\\t\")"
   ]
  },
  {
   "cell_type": "markdown",
   "metadata": {},
   "source": [
    "### 3. Compute Similarity between graphs"
   ]
  },
  {
   "cell_type": "code",
   "execution_count": 20,
   "metadata": {},
   "outputs": [],
   "source": [
    "from panricci.similarity import Jaccard"
   ]
  },
  {
   "cell_type": "code",
   "execution_count": 21,
   "metadata": {},
   "outputs": [
    {
     "data": {
      "text/plain": [
       "1.0"
      ]
     },
     "execution_count": 21,
     "metadata": {},
     "output_type": "execute_result"
    }
   ],
   "source": [
    "jaccard = Jaccard(threshold_cost=500)\n",
    "jaccard(alignment, G1, G2)"
   ]
  },
  {
   "cell_type": "code",
   "execution_count": 22,
   "metadata": {},
   "outputs": [
    {
     "data": {
      "text/plain": [
       "1358"
      ]
     },
     "execution_count": 22,
     "metadata": {},
     "output_type": "execute_result"
    }
   ],
   "source": [
    "len(G1)"
   ]
  },
  {
   "cell_type": "code",
   "execution_count": 23,
   "metadata": {},
   "outputs": [
    {
     "data": {
      "text/plain": [
       "1358"
      ]
     },
     "execution_count": 23,
     "metadata": {},
     "output_type": "execute_result"
    }
   ],
   "source": [
    "len(G2)"
   ]
  },
  {
   "cell_type": "code",
   "execution_count": 24,
   "metadata": {},
   "outputs": [
    {
     "data": {
      "text/plain": [
       "1358"
      ]
     },
     "execution_count": 24,
     "metadata": {},
     "output_type": "execute_result"
    }
   ],
   "source": [
    "len(alignment)"
   ]
  },
  {
   "cell_type": "code",
   "execution_count": null,
   "metadata": {},
   "outputs": [],
   "source": []
  }
 ],
 "metadata": {
  "kernelspec": {
   "display_name": "panricci2",
   "language": "python",
   "name": "python3"
  },
  "language_info": {
   "codemirror_mode": {
    "name": "ipython",
    "version": 3
   },
   "file_extension": ".py",
   "mimetype": "text/x-python",
   "name": "python",
   "nbconvert_exporter": "python",
   "pygments_lexer": "ipython3",
   "version": "3.10.13"
  }
 },
 "nbformat": 4,
 "nbformat_minor": 2
}
