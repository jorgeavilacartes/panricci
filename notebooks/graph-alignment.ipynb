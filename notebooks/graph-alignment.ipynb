{
 "cells": [
  {
   "cell_type": "code",
   "execution_count": 2,
   "metadata": {},
   "outputs": [],
   "source": [
    "from pathlib import Path"
   ]
  },
  {
   "cell_type": "code",
   "execution_count": 3,
   "metadata": {},
   "outputs": [
    {
     "name": "stderr",
     "output_type": "stream",
     "text": [
      "[Ricci-Flow] 2024-06-24@11:36:06.784 | Environment variable FAISS_OPT_LEVEL is not set, so let's pick the instruction set according to the current CPU\n",
      "[Ricci-Flow] 2024-06-24@11:36:06.786 | Loading faiss with AVX2 support.\n",
      "[Ricci-Flow] 2024-06-24@11:36:07.325 | Successfully loaded faiss with AVX2 support.\n"
     ]
    }
   ],
   "source": [
    "from panricci import RicciFlow, NormalizedRicciFlow\n",
    "from panricci.distributions.variation_graph import DistributionNodes\n",
    "from panricci.alignment import GraphAlignment, parse_alignment\n",
    "from panricci.utils import GFALoader"
   ]
  },
  {
   "cell_type": "markdown",
   "metadata": {},
   "source": [
    "___\n",
    "# Alignment of two variation graphs \n",
    "\n",
    "### 1. Load graphs and apply Ricci-Flow"
   ]
  },
  {
   "cell_type": "code",
   "execution_count": 5,
   "metadata": {},
   "outputs": [],
   "source": [
    "LOSS_FUNCTION = \"depth_and_len\"\n",
    "NEW_LOSS_NAME =  \"pen_strings\"\n",
    "ALPHA = 243\n",
    "PATH_SAVE = Path(f\"../output-prueba-no-cost-label/100-sars-cov-2\")\n",
    "PATH_SAVE.mkdir(exist_ok=True, parents=True)\n",
    "NORMALIZED=False\n",
    "# path1 = \"/data/analysis-paper/experiments/vg/sars-cov-2/50-SARS-CoV2-MSA.gfa\"\n",
    "# path2 = f\"/data/analysis-paper/experiments-decompositions/sars-cov-2-50-row_maximal-not_alpha_consistent-not_fixblock/gfa-unchop/strings/penalization0-min_len0-min_coverage0-alpha{ALPHA}/50-SARS-CoV2-MSA.gfa\"\n",
    "# path2 = f\"/data/analysis-paper/experiments-decompositions/sars-cov-2-50-row_maximal-not_alpha_consistent-not_fixblock/gfa-unchop/{LOSS_FUNCTION}/penalization0-min_len0-min_coverage0-alpha{ALPHA}/50-SARS-CoV2-MSA.gfa\""
   ]
  },
  {
   "cell_type": "code",
   "execution_count": 6,
   "metadata": {},
   "outputs": [],
   "source": [
    "path1 = \"/home/avila/panricci/data/100-sars-cov-2-ena.gfa\"\n",
    "path2 = \"/home/avila/panricci/data/100-sars-cov-2-ena.gfa\" #-duplicated.gfa\""
   ]
  },
  {
   "cell_type": "code",
   "execution_count": 7,
   "metadata": {},
   "outputs": [],
   "source": [
    "def run_ricci_flow(path_gfa, name , normalized=False):\n",
    "    # load graph\n",
    "    gfa_loader = GFALoader(undirected=False)\n",
    "    G = gfa_loader(path_gfa)\n",
    "\n",
    "    # compute distribution of nodes\n",
    "    distribution = DistributionNodes(G, alpha=0.5)\n",
    "\n",
    "    # Initialize ricci-flow / normalized-ricci-flow\n",
    "    if normalized is True:\n",
    "        ricci_flow = NormalizedRicciFlow(G,\n",
    "                                         distribution,\n",
    "                                         sigma=10,\n",
    "                                         save_last=False, \n",
    "                                         save_intermediate_graphs=True, \n",
    "                                         dirsave_graphs=PATH_SAVE.joinpath(\"alignment/normalized-ricci-flow\")\n",
    "                                         )\n",
    "    else:\n",
    "        ricci_flow = RicciFlow(G, \n",
    "                               distribution, \n",
    "                               save_last=False, \n",
    "                               save_intermediate_graphs=True, \n",
    "                               dirsave_graphs=PATH_SAVE.joinpath(\"alignment/ricci-flow\")\n",
    "                               )\n",
    "    G_ricci = ricci_flow.run(iterations=5, name=name)\n",
    "\n",
    "    return G_ricci"
   ]
  },
  {
   "cell_type": "code",
   "execution_count": 8,
   "metadata": {},
   "outputs": [
    {
     "name": "stderr",
     "output_type": "stream",
     "text": [
      "RicciFlow:   0%|          | 0/5 [00:00<?, ?it/s][Ricci-Flow] 2024-06-24@11:37:25.183 | iteration 1\n",
      "[Ricci-Flow] 2024-06-24@11:37:25.184 | Ricci-Flow iteration 1\n",
      "[Ricci-Flow] 2024-06-24@11:37:26.111 | curvature of edge K(10,1045)0.0001249843769529635 is > tol=1e-11\n",
      "RicciFlow:  20%|██        | 1/5 [00:00<00:03,  1.08it/s][Ricci-Flow] 2024-06-24@11:37:26.113 | iteration 2\n",
      "[Ricci-Flow] 2024-06-24@11:37:26.113 | Ricci-Flow iteration 2\n",
      "[Ricci-Flow] 2024-06-24@11:37:27.018 | curvature of edge K(10,1045)9.920634920224103e-07 is > tol=1e-11\n",
      "RicciFlow:  40%|████      | 2/5 [00:01<00:02,  1.09it/s][Ricci-Flow] 2024-06-24@11:37:27.019 | iteration 3\n",
      "[Ricci-Flow] 2024-06-24@11:37:27.020 | Ricci-Flow iteration 3\n",
      "[Ricci-Flow] 2024-06-24@11:37:27.936 | curvature of edge K(10,1045)7.874019769538165e-09 is > tol=1e-11\n",
      "RicciFlow:  60%|██████    | 3/5 [00:02<00:01,  1.09it/s][Ricci-Flow] 2024-06-24@11:37:27.937 | iteration 4\n",
      "[Ricci-Flow] 2024-06-24@11:37:27.938 | Ricci-Flow iteration 4\n",
      "[Ricci-Flow] 2024-06-24@11:37:28.847 | curvature of edge K(10,1045)6.2496119390687e-11 is > tol=1e-11\n",
      "RicciFlow:  80%|████████  | 4/5 [00:03<00:00,  1.09it/s][Ricci-Flow] 2024-06-24@11:37:28.849 | iteration 5\n",
      "[Ricci-Flow] 2024-06-24@11:37:28.850 | Ricci-Flow iteration 5\n",
      "[Ricci-Flow] 2024-06-24@11:37:29.765 | curvature of edge K(10,1287)0.0686677955836007 is > tol=1e-11\n",
      "RicciFlow: 100%|██████████| 5/5 [00:04<00:00,  1.09it/s]\n"
     ]
    }
   ],
   "source": [
    "G1 = run_ricci_flow(path1, \"pangeblocks-1\", normalized=NORMALIZED)"
   ]
  },
  {
   "cell_type": "code",
   "execution_count": 9,
   "metadata": {},
   "outputs": [
    {
     "name": "stderr",
     "output_type": "stream",
     "text": [
      "RicciFlow:   0%|          | 0/5 [00:00<?, ?it/s][Ricci-Flow] 2024-06-24@11:37:54.982 | iteration 1\n",
      "[Ricci-Flow] 2024-06-24@11:37:54.982 | Ricci-Flow iteration 1\n",
      "[Ricci-Flow] 2024-06-24@11:37:55.895 | curvature of edge K(10,1045)0.0001249843769529635 is > tol=1e-11\n",
      "RicciFlow:  20%|██        | 1/5 [00:00<00:03,  1.09it/s][Ricci-Flow] 2024-06-24@11:37:55.897 | iteration 2\n",
      "[Ricci-Flow] 2024-06-24@11:37:55.898 | Ricci-Flow iteration 2\n",
      "[Ricci-Flow] 2024-06-24@11:37:56.809 | curvature of edge K(10,1045)9.920634920224103e-07 is > tol=1e-11\n",
      "RicciFlow:  40%|████      | 2/5 [00:01<00:02,  1.09it/s][Ricci-Flow] 2024-06-24@11:37:56.811 | iteration 3\n",
      "[Ricci-Flow] 2024-06-24@11:37:56.812 | Ricci-Flow iteration 3\n",
      "[Ricci-Flow] 2024-06-24@11:37:57.718 | curvature of edge K(10,1045)7.874019769538165e-09 is > tol=1e-11\n",
      "RicciFlow:  60%|██████    | 3/5 [00:02<00:01,  1.10it/s][Ricci-Flow] 2024-06-24@11:37:57.720 | iteration 4\n",
      "[Ricci-Flow] 2024-06-24@11:37:57.720 | Ricci-Flow iteration 4\n",
      "[Ricci-Flow] 2024-06-24@11:37:58.626 | curvature of edge K(10,1045)6.2496119390687e-11 is > tol=1e-11\n",
      "RicciFlow:  80%|████████  | 4/5 [00:03<00:00,  1.10it/s][Ricci-Flow] 2024-06-24@11:37:58.628 | iteration 5\n",
      "[Ricci-Flow] 2024-06-24@11:37:58.629 | Ricci-Flow iteration 5\n",
      "[Ricci-Flow] 2024-06-24@11:37:59.541 | curvature of edge K(10,1287)0.0686677955836007 is > tol=1e-11\n",
      "RicciFlow: 100%|██████████| 5/5 [00:04<00:00,  1.10it/s]\n"
     ]
    }
   ],
   "source": [
    "G2 = run_ricci_flow(path2, \"pangeblocks-2\", normalized=NORMALIZED)"
   ]
  },
  {
   "cell_type": "markdown",
   "metadata": {},
   "source": [
    "### 2. Align them "
   ]
  },
  {
   "cell_type": "code",
   "execution_count": 10,
   "metadata": {},
   "outputs": [
    {
     "name": "stderr",
     "output_type": "stream",
     "text": [
      "[Ricci-Flow] 2024-06-24@11:39:01.648 | Creating bipartite graph\n",
      "[Ricci-Flow] 2024-06-24@11:39:01.651 | start - create_bipartite_graph\n",
      "[Ricci-Flow] 2024-06-24@11:39:02.443 | end - compute_node_embeddings\n",
      "[Ricci-Flow] 2024-06-24@11:39:03.090 | end - compute_node_embeddings\n",
      "[Ricci-Flow] 2024-06-24@11:39:22.345 | end - create_bipartite_graph\n",
      "[Ricci-Flow] 2024-06-24@11:39:22.350 | Saving bipartite graph\n",
      "[Ricci-Flow] 2024-06-24@11:39:28.364 | Starting alignment on bipartite graph: minimum-weight-full-matching\n",
      "[Ricci-Flow] 2024-06-24@11:39:34.424 | filtering optimal alignment\n",
      "[Ricci-Flow] 2024-06-24@11:39:34.425 | start - parse_optimal_alignment\n",
      "[Ricci-Flow] 2024-06-24@11:39:34.431 | end - parse_optimal_alignment\n",
      "[Ricci-Flow] 2024-06-24@11:39:34.434 | Done!\n"
     ]
    }
   ],
   "source": [
    "aligner = GraphAlignment(\n",
    "    dirsave=\"../output/graph-alignment\", \n",
    "    ricci_embedding = True, \n",
    "    seq_embedding = False, \n",
    "    kmer_size=4)\n",
    "alignment = aligner(G1, G2, name=\"pangeblocks-ricci_embedding\")"
   ]
  },
  {
   "cell_type": "code",
   "execution_count": 11,
   "metadata": {},
   "outputs": [],
   "source": [
    "parse_alignment(alignment, G1, G2).\\\n",
    "    sort_values(by=\"cost_alignment\").\\\n",
    "    to_csv(PATH_SAVE.joinpath(\"alignment-pangeblocks.tsv\"),sep=\"\\t\")"
   ]
  },
  {
   "cell_type": "markdown",
   "metadata": {},
   "source": [
    "### 3. Compute Similarity between graphs"
   ]
  },
  {
   "cell_type": "code",
   "execution_count": null,
   "metadata": {},
   "outputs": [],
   "source": [
    "from panricci.similarity import Jaccard"
   ]
  },
  {
   "cell_type": "code",
   "execution_count": null,
   "metadata": {},
   "outputs": [],
   "source": [
    "jaccard = Jaccard(threshold_cost=500)\n",
    "jaccard(alignment, G1, G2)"
   ]
  },
  {
   "cell_type": "code",
   "execution_count": null,
   "metadata": {},
   "outputs": [],
   "source": [
    "len(G1)"
   ]
  },
  {
   "cell_type": "code",
   "execution_count": null,
   "metadata": {},
   "outputs": [],
   "source": [
    "len(G2)"
   ]
  },
  {
   "cell_type": "code",
   "execution_count": null,
   "metadata": {},
   "outputs": [],
   "source": [
    "len(alignment)"
   ]
  },
  {
   "cell_type": "code",
   "execution_count": null,
   "metadata": {},
   "outputs": [],
   "source": []
  }
 ],
 "metadata": {
  "kernelspec": {
   "display_name": "panricci2",
   "language": "python",
   "name": "python3"
  },
  "language_info": {
   "codemirror_mode": {
    "name": "ipython",
    "version": 3
   },
   "file_extension": ".py",
   "mimetype": "text/x-python",
   "name": "python",
   "nbconvert_exporter": "python",
   "pygments_lexer": "ipython3",
   "version": "3.11.0"
  }
 },
 "nbformat": 4,
 "nbformat_minor": 2
}
